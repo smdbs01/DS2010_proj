{
 "cells": [
  {
   "cell_type": "code",
   "execution_count": 1,
   "metadata": {},
   "outputs": [],
   "source": [
    "import numpy as np\n",
    "import pandas as pd\n",
    "\n",
    "from os import path\n",
    "import sys"
   ]
  },
  {
   "cell_type": "code",
   "execution_count": 2,
   "metadata": {},
   "outputs": [
    {
     "name": "stdout",
     "output_type": "stream",
     "text": [
      "['c:\\\\Users\\\\smdbs\\\\Documents\\\\vscode\\\\DS2010_proj\\\\notebooks\\\\exploratory', 'c:\\\\Users\\\\smdbs\\\\.conda\\\\envs\\\\PY311\\\\python311.zip', 'c:\\\\Users\\\\smdbs\\\\.conda\\\\envs\\\\PY311\\\\DLLs', 'c:\\\\Users\\\\smdbs\\\\.conda\\\\envs\\\\PY311\\\\Lib', 'c:\\\\Users\\\\smdbs\\\\.conda\\\\envs\\\\PY311', '', 'C:\\\\Users\\\\smdbs\\\\AppData\\\\Roaming\\\\Python\\\\Python311\\\\site-packages', 'c:\\\\Users\\\\smdbs\\\\.conda\\\\envs\\\\PY311\\\\Lib\\\\site-packages', 'c:\\\\Users\\\\smdbs\\\\.conda\\\\envs\\\\PY311\\\\Lib\\\\site-packages\\\\win32', 'c:\\\\Users\\\\smdbs\\\\.conda\\\\envs\\\\PY311\\\\Lib\\\\site-packages\\\\win32\\\\lib', 'c:\\\\Users\\\\smdbs\\\\.conda\\\\envs\\\\PY311\\\\Lib\\\\site-packages\\\\Pythonwin', 'c:\\\\Users\\\\smdbs\\\\Documents\\\\vscode\\\\DS2010_proj']\n"
     ]
    }
   ],
   "source": [
    "sys.path.append(path.abspath(path.join(\"..\", \"..\")))\n",
    "print(sys.path)"
   ]
  },
  {
   "cell_type": "code",
   "execution_count": 3,
   "metadata": {},
   "outputs": [
    {
     "name": "stdout",
     "output_type": "stream",
     "text": [
      "(639612, 28)\n"
     ]
    },
    {
     "data": {
      "text/plain": [
       "(       DR_NO               Date Rptd                DATE OCC  TIME OCC  AREA  \\\n",
       " 0  230816823  11/13/2023 12:00:00 AM  11/10/2023 12:00:00 AM      2000     8   \n",
       " 1  231414752  07/09/2023 12:00:00 AM  07/09/2023 12:00:00 AM      1330    14   \n",
       " 2  230205871  02/09/2023 12:00:00 AM  02/09/2023 12:00:00 AM       130     2   \n",
       " 3  240904527  01/16/2024 12:00:00 AM  01/16/2023 12:00:00 AM      1315     9   \n",
       " 4  211015900  12/22/2021 12:00:00 AM  12/21/2021 12:00:00 AM      2030    10   \n",
       " \n",
       "      AREA NAME  Rpt Dist No  Part 1-2  Crm Cd  \\\n",
       " 0      West LA          841         1     510   \n",
       " 1      Pacific         1474         2     740   \n",
       " 2      Rampart          257         2     626   \n",
       " 3     Van Nuys          932         2     624   \n",
       " 4  West Valley         1004         2     624   \n",
       " \n",
       "                                          Crm Cd Desc  ... Status  Status Desc  \\\n",
       " 0                                   VEHICLE - STOLEN  ...     IC  Invest Cont   \n",
       " 1  VANDALISM - FELONY ($400 & OVER, ALL CHURCH VA...  ...     IC  Invest Cont   \n",
       " 2                  INTIMATE PARTNER - SIMPLE ASSAULT  ...     IC  Invest Cont   \n",
       " 3                           BATTERY - SIMPLE ASSAULT  ...     IC  Invest Cont   \n",
       " 4                           BATTERY - SIMPLE ASSAULT  ...     IC  Invest Cont   \n",
       " \n",
       "   Crm Cd 1 Crm Cd 2  Crm Cd 3 Crm Cd 4  \\\n",
       " 0    510.0      NaN       NaN      NaN   \n",
       " 1    740.0      NaN       NaN      NaN   \n",
       " 2    626.0      NaN       NaN      NaN   \n",
       " 3    624.0      NaN       NaN      NaN   \n",
       " 4    624.0      NaN       NaN      NaN   \n",
       " \n",
       "                                   LOCATION                     Cross Street  \\\n",
       " 0  1400    ARMACOST                     AV                              NaN   \n",
       " 1  8000    NARDIAN                      WY                              NaN   \n",
       " 2  1500    WILSHIRE                     BL                              NaN   \n",
       " 3  6100 N  SEPULVEDA                    BL                              NaN   \n",
       " 4          RESEDA                       BL  ROSCOE                       BL   \n",
       " \n",
       "        LAT       LON  \n",
       " 0  34.0423 -118.4656  \n",
       " 1  33.9655 -118.4205  \n",
       " 2  34.0546 -118.2684  \n",
       " 3  34.1807 -118.4662  \n",
       " 4  34.2208 -118.5361  \n",
       " \n",
       " [5 rows x 28 columns],\n",
       " Index(['DR_NO', 'Date Rptd', 'DATE OCC', 'TIME OCC', 'AREA', 'AREA NAME',\n",
       "        'Rpt Dist No', 'Part 1-2', 'Crm Cd', 'Crm Cd Desc', 'Mocodes',\n",
       "        'Vict Age', 'Vict Sex', 'Vict Descent', 'Premis Cd', 'Premis Desc',\n",
       "        'Weapon Used Cd', 'Weapon Desc', 'Status', 'Status Desc', 'Crm Cd 1',\n",
       "        'Crm Cd 2', 'Crm Cd 3', 'Crm Cd 4', 'LOCATION', 'Cross Street', 'LAT',\n",
       "        'LON'],\n",
       "       dtype='object'))"
      ]
     },
     "execution_count": 3,
     "metadata": {},
     "output_type": "execute_result"
    }
   ],
   "source": [
    "from sklearn.model_selection import train_test_split\n",
    "from sklearn.metrics import accuracy_score\n",
    "\n",
    "from src import DATA_PATH\n",
    "\n",
    "Crime = pd.read_csv(path.join(DATA_PATH, \"final\", \"crime_train.csv\"))\n",
    "\n",
    "print(Crime.shape)\n",
    "Crime.head(), Crime.columns"
   ]
  },
  {
   "cell_type": "code",
   "execution_count": 4,
   "metadata": {},
   "outputs": [
    {
     "data": {
      "text/plain": [
       "(        TIME OCC  AREA      LAT       LON\n",
       " 0           2000     8  34.0423 -118.4656\n",
       " 1           1330    14  33.9655 -118.4205\n",
       " 2            130     2  34.0546 -118.2684\n",
       " 3           1315     9  34.1807 -118.4662\n",
       " 4           2030    10  34.2208 -118.5361\n",
       " ...          ...   ...      ...       ...\n",
       " 639607      1830     4  34.0702 -118.2103\n",
       " 639608      1600    20  34.0731 -118.3113\n",
       " 639609      1200    19  34.2981 -118.4211\n",
       " 639610       322    21  34.1956 -118.5943\n",
       " 639611      2045    15  34.1721 -118.4053\n",
       " \n",
       " [639612 rows x 4 columns],\n",
       " (639612, 4))"
      ]
     },
     "execution_count": 4,
     "metadata": {},
     "output_type": "execute_result"
    }
   ],
   "source": [
    "X = Crime[[\"TIME OCC\", \"AREA\", \"LAT\", \"LON\"]]\n",
    "X, X.shape"
   ]
  },
  {
   "cell_type": "code",
   "execution_count": 6,
   "metadata": {},
   "outputs": [
    {
     "data": {
      "text/plain": [
       "(0                                          VEHICLE - STOLEN\n",
       " 1         VANDALISM - FELONY ($400 & OVER, ALL CHURCH VA...\n",
       " 2                         INTIMATE PARTNER - SIMPLE ASSAULT\n",
       " 3                                  BATTERY - SIMPLE ASSAULT\n",
       " 4                                  BATTERY - SIMPLE ASSAULT\n",
       "                                 ...                        \n",
       " 639607                             VEHICLE - ATTEMPT STOLEN\n",
       " 639608                             VEHICLE - ATTEMPT STOLEN\n",
       " 639609    CRM AGNST CHLD (13 OR UNDER) (14-15 & SUSP 10 ...\n",
       " 639610                    INTIMATE PARTNER - SIMPLE ASSAULT\n",
       " 639611       ASSAULT WITH DEADLY WEAPON, AGGRAVATED ASSAULT\n",
       " Name: Crm Cd Desc, Length: 639612, dtype: object,\n",
       " (639612,))"
      ]
     },
     "execution_count": 6,
     "metadata": {},
     "output_type": "execute_result"
    }
   ],
   "source": [
    "y = Crime[\"Crm Cd Desc\"]\n",
    "y, y.shape"
   ]
  },
  {
   "cell_type": "code",
   "execution_count": 7,
   "metadata": {},
   "outputs": [
    {
     "data": {
      "text/plain": [
       "(        TIME OCC  AREA      LAT       LON\n",
       " 23795       1300    17  34.2555 -118.5323\n",
       " 493062      1500    19  34.3156 -118.4408\n",
       " 330984      1900    10  34.1608 -118.5098\n",
       " 498490      1902     1  34.0483 -118.2631\n",
       " 515191      1555     8  34.0303 -118.5153\n",
       " 18352       1330     8  34.0638 -118.4324\n",
       " 59696       1500    20  34.0763 -118.2917\n",
       " 76446       1430     7  34.0558 -118.3706\n",
       " 113864      1000    14  34.0000 -118.4598\n",
       " 97339       1740    17  34.2374 -118.5580,\n",
       " 23795                                     CONTEMPT OF COURT\n",
       " 493062                                             BURGLARY\n",
       " 330984             EMBEZZLEMENT, PETTY THEFT ($950 & UNDER)\n",
       " 498490             SHOPLIFTING - PETTY THEFT ($950 & UNDER)\n",
       " 515191    THEFT FROM MOTOR VEHICLE - GRAND ($950.01 AND ...\n",
       " 18352                    THEFT PLAIN - PETTY ($950 & UNDER)\n",
       " 59696                                              BURGLARY\n",
       " 76446              SHOPLIFTING - PETTY THEFT ($950 & UNDER)\n",
       " 113864                   THEFT PLAIN - PETTY ($950 & UNDER)\n",
       " 97339              SHOPLIFTING - PETTY THEFT ($950 & UNDER)\n",
       " Name: Crm Cd Desc, dtype: object)"
      ]
     },
     "execution_count": 7,
     "metadata": {},
     "output_type": "execute_result"
    }
   ],
   "source": [
    "X_train, X_test, y_train, y_test = train_test_split(X, y, test_size=0.2, random_state=42)\n",
    "\n",
    "X_train[:10], y_train[:10]"
   ]
  },
  {
   "cell_type": "code",
   "execution_count": 8,
   "metadata": {},
   "outputs": [
    {
     "data": {
      "text/plain": [
       "array([[-0.09835213,  1.02964351,  1.63202612, -1.70019244],\n",
       "       [ 0.21745497,  1.35716263,  2.17283574, -0.82463671],\n",
       "       [ 0.84906918, -0.11667344,  0.77986855, -1.48489185],\n",
       "       [ 0.85222725, -1.5905095 , -0.23246226,  0.87575948],\n",
       "       [ 0.30430193, -0.44419256, -0.39443518, -1.53752088],\n",
       "       [-0.05098107, -0.44419256, -0.09298557, -0.74425783],\n",
       "       [ 0.21745497,  1.52092219,  0.01949563,  0.60208851],\n",
       "       [ 0.10692248, -0.60795213, -0.16497354, -0.15289888],\n",
       "       [-0.57206279,  0.53836482, -0.66708961, -1.0064461 ],\n",
       "       [ 0.5964235 ,  1.02964351,  1.46915335, -1.94611355]])"
      ]
     },
     "execution_count": 8,
     "metadata": {},
     "output_type": "execute_result"
    }
   ],
   "source": [
    "from sklearn.preprocessing import StandardScaler\n",
    "\n",
    "scaler = StandardScaler()\n",
    "X_train = scaler.fit_transform(X_train)\n",
    "X_test = scaler.transform(X_test)\n",
    "\n",
    "X_train[:10]"
   ]
  },
  {
   "cell_type": "code",
   "execution_count": 19,
   "metadata": {},
   "outputs": [
    {
     "data": {
      "text/plain": [
       "0.09421292496267286"
      ]
     },
     "execution_count": 19,
     "metadata": {},
     "output_type": "execute_result"
    }
   ],
   "source": [
    "from sklearn.ensemble import RandomForestClassifier\n",
    "\n",
    "RFC = RandomForestClassifier(max_depth=15, class_weight=\"balanced\", random_state=42)\n",
    "\n",
    "RFC.fit(X_train, y_train)\n",
    "\n",
    "accuracy_score(y_test, RFC.predict(X_test), normalize=True)"
   ]
  },
  {
   "cell_type": "code",
   "execution_count": 12,
   "metadata": {},
   "outputs": [
    {
     "data": {
      "text/plain": [
       "0.13656652830218177"
      ]
     },
     "execution_count": 12,
     "metadata": {},
     "output_type": "execute_result"
    }
   ],
   "source": [
    "from sklearn.neighbors import KNeighborsClassifier\n",
    "\n",
    "KNN = KNeighborsClassifier(n_neighbors=11)\n",
    "\n",
    "KNN.fit(X_train, y_train)\n",
    "\n",
    "accuracy_score(y_test, KNN.predict(X_test), normalize=True)"
   ]
  },
  {
   "cell_type": "code",
   "execution_count": 13,
   "metadata": {},
   "outputs": [
    {
     "data": {
      "text/plain": [
       "0.118164833532672"
      ]
     },
     "execution_count": 13,
     "metadata": {},
     "output_type": "execute_result"
    }
   ],
   "source": [
    "from sklearn.neural_network import MLPClassifier\n",
    "\n",
    "MLP = MLPClassifier(max_iter=1000, alpha=1e-5, hidden_layer_sizes=(5, 3), random_state=42)\n",
    "\n",
    "MLP.fit(X_train, y_train)\n",
    "\n",
    "accuracy_score(y_test, MLP.predict(X_test), normalize=True)"
   ]
  },
  {
   "cell_type": "code",
   "execution_count": 16,
   "metadata": {},
   "outputs": [
    {
     "data": {
      "text/plain": [
       "0.007223095143172064"
      ]
     },
     "execution_count": 16,
     "metadata": {},
     "output_type": "execute_result"
    }
   ],
   "source": [
    "# random answer\n",
    "\n",
    "# Get the prediction space\n",
    "response_space = pd.concat([y_train, y_test], axis=0).unique()\n",
    "\n",
    "np.random.seed(42)\n",
    "preds = np.random.choice(response_space, len(y_test))\n",
    "\n",
    "# Calculate accuracy \n",
    "(y_test == preds).mean()"
   ]
  }
 ],
 "metadata": {
  "kernelspec": {
   "display_name": "PY311",
   "language": "python",
   "name": "python3"
  },
  "language_info": {
   "codemirror_mode": {
    "name": "ipython",
    "version": 3
   },
   "file_extension": ".py",
   "mimetype": "text/x-python",
   "name": "python",
   "nbconvert_exporter": "python",
   "pygments_lexer": "ipython3",
   "version": "3.11.7"
  }
 },
 "nbformat": 4,
 "nbformat_minor": 2
}
