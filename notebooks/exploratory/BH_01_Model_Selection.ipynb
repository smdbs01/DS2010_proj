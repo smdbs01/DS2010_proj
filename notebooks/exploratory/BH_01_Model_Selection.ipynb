{
 "cells": [
  {
   "cell_type": "code",
   "execution_count": 2,
   "metadata": {},
   "outputs": [],
   "source": [
    "import numpy as np\n",
    "import pandas as pd\n",
    "import matplotlib.pyplot as plt\n",
    "import seaborn as sns\n",
    "\n",
    "from os import path\n",
    "import sys"
   ]
  },
  {
   "cell_type": "code",
   "execution_count": 3,
   "metadata": {},
   "outputs": [
    {
     "name": "stdout",
     "output_type": "stream",
     "text": [
      "['c:\\\\Users\\\\smdbs\\\\Documents\\\\vscode\\\\DS2010_proj\\\\notebooks\\\\exploratory', 'c:\\\\Users\\\\smdbs\\\\.conda\\\\envs\\\\PY311\\\\python311.zip', 'c:\\\\Users\\\\smdbs\\\\.conda\\\\envs\\\\PY311\\\\DLLs', 'c:\\\\Users\\\\smdbs\\\\.conda\\\\envs\\\\PY311\\\\Lib', 'c:\\\\Users\\\\smdbs\\\\.conda\\\\envs\\\\PY311', '', 'C:\\\\Users\\\\smdbs\\\\AppData\\\\Roaming\\\\Python\\\\Python311\\\\site-packages', 'c:\\\\Users\\\\smdbs\\\\.conda\\\\envs\\\\PY311\\\\Lib\\\\site-packages', 'c:\\\\Users\\\\smdbs\\\\.conda\\\\envs\\\\PY311\\\\Lib\\\\site-packages\\\\win32', 'c:\\\\Users\\\\smdbs\\\\.conda\\\\envs\\\\PY311\\\\Lib\\\\site-packages\\\\win32\\\\lib', 'c:\\\\Users\\\\smdbs\\\\.conda\\\\envs\\\\PY311\\\\Lib\\\\site-packages\\\\Pythonwin', 'c:\\\\Users\\\\smdbs\\\\Documents\\\\vscode\\\\DS2010_proj']\n"
     ]
    }
   ],
   "source": [
    "sys.path.append(path.abspath(path.join(\"..\", \"..\")))\n",
    "print(sys.path)"
   ]
  },
  {
   "cell_type": "code",
   "execution_count": 4,
   "metadata": {},
   "outputs": [
    {
     "name": "stdout",
     "output_type": "stream",
     "text": [
      "(650913, 28)\n"
     ]
    },
    {
     "data": {
      "text/plain": [
       "(       DR_NO               Date Rptd                DATE OCC  TIME OCC  AREA  \\\n",
       " 0  220617883  10/21/2022 12:00:00 AM  10/21/2022 12:00:00 AM      1410     6   \n",
       " 1  221811977  06/03/2022 12:00:00 AM  06/01/2022 12:00:00 AM      1700    18   \n",
       " 2  231405004  01/26/2023 12:00:00 AM  01/25/2023 12:00:00 AM      2300    14   \n",
       " 3  210814770  10/02/2021 12:00:00 AM  10/02/2021 12:00:00 AM       130     8   \n",
       " 4  220222356  12/29/2022 12:00:00 AM  10/25/2022 12:00:00 AM      1320     2   \n",
       " \n",
       "    AREA NAME  Rpt Dist No  Part 1-2  Crm Cd         Crm Cd Desc  ... Status  \\\n",
       " 0  Hollywood          659         1     210             ROBBERY  ...     IC   \n",
       " 1  Southeast         1826         1     510    VEHICLE - STOLEN  ...     IC   \n",
       " 2    Pacific         1499         1     510    VEHICLE - STOLEN  ...     IC   \n",
       " 3    West LA          841         1     210             ROBBERY  ...     IC   \n",
       " 4    Rampart          249         2     662  BUNCO, GRAND THEFT  ...     AO   \n",
       " \n",
       "    Status Desc Crm Cd 1 Crm Cd 2  Crm Cd 3 Crm Cd 4  \\\n",
       " 0  Invest Cont    210.0      NaN       NaN      NaN   \n",
       " 1  Invest Cont    510.0      NaN       NaN      NaN   \n",
       " 2  Invest Cont    510.0      NaN       NaN      NaN   \n",
       " 3  Invest Cont    210.0      NaN       NaN      NaN   \n",
       " 4  Adult Other    662.0      NaN       NaN      NaN   \n",
       " \n",
       "                                    LOCATION Cross Street      LAT       LON  \n",
       " 0   5300 W  SUNSET                       BL          NaN  34.0981 -118.3056  \n",
       " 1   1500 E  CENTURY                      BL          NaN  33.9457 -118.2481  \n",
       " 2  11500    AVIATION                     BL          NaN  33.9300 -118.3784  \n",
       " 3                              SANTA MONICA    WELLESLEY  34.0396 -118.4655  \n",
       " 4   1300 W  5TH                          ST          NaN  34.0549 -118.2614  \n",
       " \n",
       " [5 rows x 28 columns],\n",
       " Index(['DR_NO', 'Date Rptd', 'DATE OCC', 'TIME OCC', 'AREA', 'AREA NAME',\n",
       "        'Rpt Dist No', 'Part 1-2', 'Crm Cd', 'Crm Cd Desc', 'Mocodes',\n",
       "        'Vict Age', 'Vict Sex', 'Vict Descent', 'Premis Cd', 'Premis Desc',\n",
       "        'Weapon Used Cd', 'Weapon Desc', 'Status', 'Status Desc', 'Crm Cd 1',\n",
       "        'Crm Cd 2', 'Crm Cd 3', 'Crm Cd 4', 'LOCATION', 'Cross Street', 'LAT',\n",
       "        'LON'],\n",
       "       dtype='object'))"
      ]
     },
     "execution_count": 4,
     "metadata": {},
     "output_type": "execute_result"
    }
   ],
   "source": [
    "from sklearn.model_selection import train_test_split\n",
    "from sklearn.metrics import accuracy_score\n",
    "\n",
    "from src import DATA_PATH\n",
    "\n",
    "Crime = pd.read_csv(path.join(DATA_PATH, \"final\", \"crime_train.csv\"))\n",
    "\n",
    "print(Crime.shape)\n",
    "Crime.head(), Crime.columns"
   ]
  },
  {
   "cell_type": "code",
   "execution_count": 26,
   "metadata": {},
   "outputs": [
    {
     "data": {
      "text/plain": [
       "(        TIME OCC  AREA      LAT       LON\n",
       " 0           1410     6  34.0981 -118.3056\n",
       " 1           1700    18  33.9457 -118.2481\n",
       " 2           2300    14  33.9300 -118.3784\n",
       " 3            130     8  34.0396 -118.4655\n",
       " 4           1320     2  34.0549 -118.2614\n",
       " ...          ...   ...      ...       ...\n",
       " 650908      1530    13  34.0202 -118.2505\n",
       " 650909      1400    20  34.0671 -118.3128\n",
       " 650910      1145     7  34.0622 -118.3429\n",
       " 650911      2130     6  34.0871 -118.3310\n",
       " 650912      1915    10  34.1698 -118.5308\n",
       " \n",
       " [650913 rows x 4 columns],\n",
       " (650913, 4))"
      ]
     },
     "execution_count": 26,
     "metadata": {},
     "output_type": "execute_result"
    }
   ],
   "source": [
    "X = Crime[[\"TIME OCC\", \"AREA\", \"LAT\", \"LON\"]]\n",
    "X, X.shape"
   ]
  },
  {
   "cell_type": "code",
   "execution_count": 6,
   "metadata": {},
   "outputs": [
    {
     "data": {
      "text/plain": [
       "(650913,)"
      ]
     },
     "execution_count": 6,
     "metadata": {},
     "output_type": "execute_result"
    }
   ],
   "source": [
    "y = Crime[\"Crm Cd\"]\n",
    "y, y.shape"
   ]
  },
  {
   "cell_type": "code",
   "execution_count": 31,
   "metadata": {},
   "outputs": [
    {
     "name": "stderr",
     "output_type": "stream",
     "text": [
      "C:\\Users\\smdbs\\AppData\\Local\\Temp\\ipykernel_39808\\3353121592.py:5: SettingWithCopyWarning: \n",
      "A value is trying to be set on a copy of a slice from a DataFrame.\n",
      "Try using .loc[row_indexer,col_indexer] = value instead\n",
      "\n",
      "See the caveats in the documentation: https://pandas.pydata.org/pandas-docs/stable/user_guide/indexing.html#returning-a-view-versus-a-copy\n",
      "  X['AREA'] = enc.fit_transform(X['AREA'].values.reshape(-1, 1))\n"
     ]
    }
   ],
   "source": [
    "from sklearn.preprocessing import OrdinalEncoder\n",
    "\n",
    "enc = OrdinalEncoder(encoded_missing_value=-1)\n",
    "\n",
    "X['AREA'] = enc.fit_transform(X['AREA'].values.reshape(-1, 1))"
   ]
  },
  {
   "cell_type": "code",
   "execution_count": 32,
   "metadata": {},
   "outputs": [
    {
     "data": {
      "text/plain": [
       "(        TIME OCC  AREA      LAT       LON\n",
       " 1816         500   4.0  33.7827 -118.2662\n",
       " 178289       425   9.0  34.1866 -118.4793\n",
       " 623343      1630  12.0  34.0225 -118.2702\n",
       " 318769       910   2.0  34.0109 -118.3070\n",
       " 252831      2000  16.0  34.2228 -118.5191\n",
       " 154672      1930  12.0  33.9767 -118.2565\n",
       " 560328       835   4.0  33.7484 -118.2923\n",
       " 493573       115   4.0  33.7326 -118.3050\n",
       " 603303       400  13.0  33.9929 -118.4395\n",
       " 306136       620  16.0  34.2583 -118.4745,\n",
       " 1816      420\n",
       " 178289    331\n",
       " 623343    210\n",
       " 318769    624\n",
       " 252831    626\n",
       " 154672    510\n",
       " 560328    354\n",
       " 493573    236\n",
       " 603303    420\n",
       " 306136    626\n",
       " Name: Crm Cd, dtype: int64)"
      ]
     },
     "execution_count": 32,
     "metadata": {},
     "output_type": "execute_result"
    }
   ],
   "source": [
    "X_train, X_test, y_train, y_test = train_test_split(X, y, test_size=0.2, random_state=42)\n",
    "\n",
    "X_train[:10], y_train[:10]"
   ]
  },
  {
   "cell_type": "code",
   "execution_count": 9,
   "metadata": {},
   "outputs": [
    {
     "data": {
      "text/plain": [
       "array([[-1.28324261, -0.93655004, -2.6166941 ,  0.84666817],\n",
       "       [-1.39807547, -0.11703516,  1.01171954, -1.1942799 ],\n",
       "       [ 0.44690572,  0.37467378, -0.46246387,  0.80835849],\n",
       "       [-0.65548968, -1.264356  , -0.56667183,  0.45590946],\n",
       "       [ 1.01341447,  1.03028569,  1.33692027, -1.57546119],\n",
       "       [ 0.90623714,  0.37467378, -0.87390567,  0.93956914],\n",
       "       [-0.77032253, -0.93655004, -2.92482628,  0.59669752],\n",
       "       [-1.87271793, -0.93655004, -3.06676472,  0.4750643 ],\n",
       "       [-1.43635309,  0.53857675, -0.72837385, -0.81309861],\n",
       "       [-1.09951005,  1.03028569,  1.65583259, -1.14830828]])"
      ]
     },
     "execution_count": 9,
     "metadata": {},
     "output_type": "execute_result"
    }
   ],
   "source": [
    "from sklearn.preprocessing import StandardScaler\n",
    "\n",
    "scaler = StandardScaler()\n",
    "X_train = scaler.fit_transform(X_train)\n",
    "X_test = scaler.transform(X_test)\n",
    "\n",
    "X_train[:10]"
   ]
  },
  {
   "cell_type": "code",
   "execution_count": 37,
   "metadata": {},
   "outputs": [
    {
     "data": {
      "text/plain": [
       "0.12377960255947397"
      ]
     },
     "execution_count": 37,
     "metadata": {},
     "output_type": "execute_result"
    }
   ],
   "source": [
    "from sklearn.ensemble import HistGradientBoostingClassifier\n",
    "\n",
    "HGBC = HistGradientBoostingClassifier(max_iter=100, random_state=42)\n",
    "\n",
    "HGBC.fit(X_train, y_train)\n",
    "\n",
    "accuracy_score(y_test, HGBC.predict(X_test), normalize=True)"
   ]
  },
  {
   "cell_type": "code",
   "execution_count": 38,
   "metadata": {},
   "outputs": [
    {
     "data": {
      "text/plain": [
       "0.13597781584385057"
      ]
     },
     "execution_count": 38,
     "metadata": {},
     "output_type": "execute_result"
    }
   ],
   "source": [
    "from sklearn.ensemble import RandomForestClassifier\n",
    "\n",
    "RFC = RandomForestClassifier(n_estimators=10, random_state=42)\n",
    "\n",
    "RFC.fit(X_train, y_train)\n",
    "\n",
    "accuracy_score(y_test, RFC.predict(X_test), normalize=True)"
   ]
  },
  {
   "cell_type": "code",
   "execution_count": 39,
   "metadata": {},
   "outputs": [
    {
     "data": {
      "text/plain": [
       "0.1302551024327293"
      ]
     },
     "execution_count": 39,
     "metadata": {},
     "output_type": "execute_result"
    }
   ],
   "source": [
    "from sklearn.neighbors import KNeighborsClassifier\n",
    "\n",
    "KNN = KNeighborsClassifier(n_neighbors=11)\n",
    "\n",
    "KNN.fit(X_train, y_train)\n",
    "\n",
    "accuracy_score(y_test, KNN.predict(X_test), normalize=True)"
   ]
  },
  {
   "cell_type": "code",
   "execution_count": 40,
   "metadata": {},
   "outputs": [
    {
     "data": {
      "text/plain": [
       "0.11550663297051074"
      ]
     },
     "execution_count": 40,
     "metadata": {},
     "output_type": "execute_result"
    }
   ],
   "source": [
    "from sklearn.neural_network import MLPClassifier\n",
    "\n",
    "MLP = MLPClassifier(max_iter=1000, alpha=1e-5, hidden_layer_sizes=(5, 3), random_state=42)\n",
    "\n",
    "MLP.fit(X_train, y_train)\n",
    "\n",
    "accuracy_score(y_test, MLP.predict(X_test), normalize=True)"
   ]
  },
  {
   "cell_type": "code",
   "execution_count": 33,
   "metadata": {},
   "outputs": [
    {
     "data": {
      "text/plain": [
       "0.007666131522549027"
      ]
     },
     "execution_count": 33,
     "metadata": {},
     "output_type": "execute_result"
    }
   ],
   "source": [
    "# random answer\n",
    "\n",
    "# Get the prediction space\n",
    "response_space = pd.concat([y_train, y_test], axis=0).unique()\n",
    "\n",
    "np.random.seed(42)\n",
    "# Get predictions\n",
    "preds = np.random.choice(response_space, len(y_test))\n",
    "\n",
    "# Calculate accuracy \n",
    "(y_test == preds).mean()"
   ]
  }
 ],
 "metadata": {
  "kernelspec": {
   "display_name": "PY311",
   "language": "python",
   "name": "python3"
  },
  "language_info": {
   "codemirror_mode": {
    "name": "ipython",
    "version": 3
   },
   "file_extension": ".py",
   "mimetype": "text/x-python",
   "name": "python",
   "nbconvert_exporter": "python",
   "pygments_lexer": "ipython3",
   "version": "3.11.7"
  }
 },
 "nbformat": 4,
 "nbformat_minor": 2
}
